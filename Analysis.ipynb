{
 "cells": [
  {
   "cell_type": "code",
   "execution_count": 1,
   "metadata": {},
   "outputs": [
    {
     "name": "stderr",
     "output_type": "stream",
     "text": [
      "Using TensorFlow backend.\n"
     ]
    }
   ],
   "source": [
    "%matplotlib inline\n",
    "import numpy as np\n",
    "import pandas as pd\n",
    "import datetime as dt\n",
    "import matplotlib.pyplot as plt\n",
    "from mpl_toolkits.axes_grid1 import ImageGrid\n",
    "from os import listdir, makedirs\n",
    "from os.path import join, exists, expanduser\n",
    "from tqdm import tqdm\n",
    "from sklearn.metrics import log_loss, accuracy_score\n",
    "from keras.preprocessing import image\n",
    "from keras.applications.vgg16 import VGG16\n",
    "from keras.applications.resnet50 import ResNet50\n",
    "from keras.applications import xception\n",
    "from keras.applications import inception_v3\n",
    "from keras.applications.vgg16 import preprocess_input, decode_predictions\n",
    "from sklearn.linear_model import LogisticRegression"
   ]
  },
  {
   "cell_type": "code",
   "execution_count": 2,
   "metadata": {},
   "outputs": [],
   "source": [
    "start = dt.datetime.now()"
   ]
  },
  {
   "cell_type": "code",
   "execution_count": 3,
   "metadata": {},
   "outputs": [
    {
     "name": "stdout",
     "output_type": "stream",
     "text": [
      "ls: ../input/keras-pretrained-models/: No such file or directory\r\n"
     ]
    }
   ],
   "source": [
    "!ls ../input/keras-pretrained-models/"
   ]
  },
  {
   "cell_type": "code",
   "execution_count": 1,
   "metadata": {},
   "outputs": [
    {
     "ename": "ModuleNotFoundError",
     "evalue": "No module named 'nets'",
     "output_type": "error",
     "traceback": [
      "\u001b[0;31m---------------------------------------------------------------------------\u001b[0m",
      "\u001b[0;31mModuleNotFoundError\u001b[0m                       Traceback (most recent call last)",
      "\u001b[0;32m<ipython-input-1-fc20be947966>\u001b[0m in \u001b[0;36m<module>\u001b[0;34m()\u001b[0m\n\u001b[1;32m      8\u001b[0m \u001b[0mos\u001b[0m\u001b[0;34m.\u001b[0m\u001b[0menviron\u001b[0m\u001b[0;34m[\u001b[0m\u001b[0;34m'CUDA_VISIBLE_DEVICES'\u001b[0m\u001b[0;34m]\u001b[0m \u001b[0;34m=\u001b[0m \u001b[0;34m'0'\u001b[0m\u001b[0;34m\u001b[0m\u001b[0m\n\u001b[1;32m      9\u001b[0m \u001b[0;32mimport\u001b[0m \u001b[0mtensorflow\u001b[0m \u001b[0;32mas\u001b[0m \u001b[0mtf\u001b[0m\u001b[0;34m\u001b[0m\u001b[0m\n\u001b[0;32m---> 10\u001b[0;31m \u001b[0;32mfrom\u001b[0m \u001b[0mnets\u001b[0m \u001b[0;32mimport\u001b[0m \u001b[0minception\u001b[0m\u001b[0;34m,\u001b[0m \u001b[0mresnet_v1\u001b[0m\u001b[0;34m\u001b[0m\u001b[0m\n\u001b[0m\u001b[1;32m     11\u001b[0m \u001b[0;32mfrom\u001b[0m \u001b[0mpreprocessing\u001b[0m \u001b[0;32mimport\u001b[0m \u001b[0mvgg_preprocessing\u001b[0m\u001b[0;34m,\u001b[0m \u001b[0minception_preprocessing\u001b[0m\u001b[0;34m\u001b[0m\u001b[0m\n\u001b[1;32m     12\u001b[0m \u001b[0;32mfrom\u001b[0m \u001b[0mtensorflow\u001b[0m\u001b[0;34m.\u001b[0m\u001b[0mcontrib\u001b[0m \u001b[0;32mimport\u001b[0m \u001b[0mslim\u001b[0m\u001b[0;34m\u001b[0m\u001b[0m\n",
      "\u001b[0;31mModuleNotFoundError\u001b[0m: No module named 'nets'"
     ]
    }
   ],
   "source": [
    "import sys\n",
    "sys.path.append('slim')\n",
    "from tqdm import tqdm\n",
    "from glob import glob\n",
    "import numpy as np\n",
    "import pandas as pd\n",
    "import os\n",
    "os.environ['CUDA_VISIBLE_DEVICES'] = '0'\n",
    "import tensorflow as tf\n",
    "from nets import inception, resnet_v1\n",
    "from preprocessing import vgg_preprocessing, inception_preprocessing\n",
    "from tensorflow.contrib import slim\n",
    "import h5py"
   ]
  },
  {
   "cell_type": "code",
   "execution_count": null,
   "metadata": {},
   "outputs": [],
   "source": [
    "df = pd.read_csv('sample_submission.csv')\n",
    "synset = list(df.columns[1:])\n"
   ]
  },
  {
   "cell_type": "code",
   "execution_count": null,
   "metadata": {},
   "outputs": [],
   "source": [
    "inception_size = inception.inception_v3.default_image_size\n",
    "resnet_size = resnet_v1.resnet_v1_152.default_image_size\n",
    "\n",
    "model_dict = {'InceptionV3':{'model': inception.inception_v3, \n",
    "                           'size':inception_size,\n",
    "                           'scope':inception.inception_v3_arg_scope(),\n",
    "                           'output':'AvgPool_1a',\n",
    "                           'numclasses':1001,\n",
    "                           'preprocessing':inception_preprocessing,\n",
    "                           'ckpt_path':'inception_v3.ckpt'},\n",
    "              'resnet_v1_152':{'model': resnet_v1.resnet_v1_152,\n",
    "                           'size':resnet_size,\n",
    "                           'scope':resnet_v1.resnet_arg_scope(),\n",
    "                           'output':'global_pool',\n",
    "                           'numclasses':1000,\n",
    "                           'preprocessing':vgg_preprocessing,\n",
    "                           'ckpt_path':'resnet_v1_152.ckpt'}}\n",
    "\n",
    "train_filenames = glob('Images/*/*.jpg')\n",
    "test_filenames = glob('test/*.jpg')\n",
    "train_num = len(train_filenames)\n",
    "test_num = len(test_filenames)\n",
    "labels = [synset.index(filename.split('/')[2][10:].lower()) for filename in train_filenames]\n",
    "\n",
    "\n",
    "def get_features(model_name, model):\n",
    "\n",
    "    size = model['size']\n",
    "    feature_model = model['model']\n",
    "    preprocessing = model['preprocessing']\n",
    "\n",
    "    filename = tf.placeholder(tf.string)\n",
    "    file_contents = tf.read_file(filename)\n",
    "    image = tf.image.decode_jpeg(file_contents, channels=3)\n",
    "    processed_image = preprocessing.preprocess_image(image, size, size, is_training=False)\n",
    "    processed_inputs = tf.expand_dims(processed_image, 0)\n",
    "    \n",
    "    with slim.arg_scope(model['scope']):\n",
    "        _, end_points = feature_model(processed_inputs, num_classes=model['numclasses'], is_training=False)\n",
    "    feature = tf.squeeze(end_points[model['output']])\n",
    "    init_fn = slim.assign_from_checkpoint_fn(model['ckpt_path'],\n",
    "            slim.get_model_variables(model_name))\n",
    "    \n",
    "    train_features = np.zeros([train_num, 2048], dtype=np.float32)\n",
    "    test_features = np.zeros([test_num, 2048], dtype=np.float32)\n",
    "    with tf.Session() as sess:\n",
    "        init_fn(sess)\n",
    "        for i, train_filename in tqdm(enumerate(train_filenames), total=train_num):\n",
    "            train_features[i] = sess.run(feature, feed_dict={filename:train_filename})\n",
    "        for i, test_filename in tqdm(enumerate(test_filenames), total=test_num):\n",
    "            test_features[i] = sess.run(feature, feed_dict={filename:test_filename})\n",
    "\n",
    "    return train_features, test_features\n",
    "\n",
    "train_features = []\n",
    "test_features = []\n",
    "for model_name, model in model_dict.items():\n",
    "    features = get_features(model_name, model)\n",
    "    train_features.append(features[0])\n",
    "    test_features.append(features[1])\n",
    "\n",
    "train_features = np.concatenate(train_features, axis=1)\n",
    "test_features = np.concatenate(test_features, axis=1)\n",
    "\n",
    "with h5py.File('features.h5', 'w') as h:\n",
    "    h.create_dataset('train', data=train_features)\n",
    "    h.create_dataset('test', data=test_features)\n",
    "    h.create_dataset('labels', data=labels)\n",
    "    h.create_dataset('synset', data=synset)"
   ]
  }
 ],
 "metadata": {
  "kernelspec": {
   "display_name": "Python 3",
   "language": "python",
   "name": "python3"
  },
  "language_info": {
   "codemirror_mode": {
    "name": "ipython",
    "version": 3
   },
   "file_extension": ".py",
   "mimetype": "text/x-python",
   "name": "python",
   "nbconvert_exporter": "python",
   "pygments_lexer": "ipython3",
   "version": "3.6.3"
  }
 },
 "nbformat": 4,
 "nbformat_minor": 2
}
